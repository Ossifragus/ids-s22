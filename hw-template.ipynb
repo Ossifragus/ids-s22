{
 "cells": [
  {
   "cell_type": "markdown",
   "id": "e6208d84",
   "metadata": {},
   "source": [
    "# Problem 1: Gamma MLE Simulation Study\n",
    "\n",
    "First, we define the negative loglikelihood function give the gamma parameters `theta` and data vector `x`."
   ]
  },
  {
   "cell_type": "code",
   "execution_count": 1,
   "id": "51ffb515",
   "metadata": {},
   "outputs": [],
   "source": [
    "import numpy as np\n",
    "from scipy.stats import gamma\n",
    "from scipy.optimize import minimize\n",
    "\n",
    "def nllk_gamma(theta, x):\n",
    "    return(- np.sum(gamma.logpdf(x, a = theta[0], scale = theta[1])))"
   ]
  },
  {
   "cell_type": "markdown",
   "id": "5642f761",
   "metadata": {},
   "source": [
    "Let's test it out."
   ]
  },
  {
   "cell_type": "code",
   "execution_count": 2,
   "id": "bf5c3833",
   "metadata": {},
   "outputs": [
    {
     "data": {
      "text/plain": [
       "231.47722169902787"
      ]
     },
     "execution_count": 2,
     "metadata": {},
     "output_type": "execute_result"
    }
   ],
   "source": [
    "n = 100\n",
    "theta = [2., 2.]\n",
    "x = gamma.rvs(a = theta[0], scale = theta[1], size = n)\n",
    "\n",
    "nllk_gamma(theta, x)"
   ]
  },
  {
   "cell_type": "markdown",
   "id": "67789770",
   "metadata": {},
   "source": [
    "Now let's write a function to find the MLE by minimizing the negative loglikelihood function."
   ]
  },
  {
   "cell_type": "code",
   "execution_count": 3,
   "id": "328b746d",
   "metadata": {},
   "outputs": [],
   "source": [
    "def mle_gamma(x):\n",
    "    ## moment estimator as initial value\n",
    "    m = x.mean()\n",
    "    v = x.var()\n",
    "    init = np.array([m * m / v, v / m])\n",
    "    ## optimize\n",
    "    fit = minimize(\n",
    "        nllk_gamma,\n",
    "        x0  = init,\n",
    "        args = (x),\n",
    "        method = \"BFGS\")\n",
    "    mle = fit.x                         # MLE\n",
    "    se = np.sqrt(np.diag(fit.hess_inv)) # standard error\n",
    "    return mle, se"
   ]
  },
  {
   "cell_type": "markdown",
   "id": "c388d3ef",
   "metadata": {},
   "source": [
    "Let's see if this works."
   ]
  },
  {
   "cell_type": "code",
   "execution_count": 4,
   "id": "63ea8f4c",
   "metadata": {},
   "outputs": [],
   "source": [
    "mle, se = mle_gamma(x)"
   ]
  },
  {
   "cell_type": "code",
   "execution_count": 5,
   "id": "e8bdc49a",
   "metadata": {},
   "outputs": [
    {
     "data": {
      "text/plain": [
       "array([1.72977825, 2.30939004])"
      ]
     },
     "execution_count": 5,
     "metadata": {},
     "output_type": "execute_result"
    }
   ],
   "source": [
    "mle"
   ]
  },
  {
   "cell_type": "code",
   "execution_count": 6,
   "id": "e01c2a49",
   "metadata": {},
   "outputs": [
    {
     "data": {
      "text/plain": [
       "array([0.22527359, 0.34875206])"
      ]
     },
     "execution_count": 6,
     "metadata": {},
     "output_type": "execute_result"
    }
   ],
   "source": [
    "se"
   ]
  },
  {
   "cell_type": "markdown",
   "id": "3aedaa30",
   "metadata": {},
   "source": [
    "Now we can design a simulation study with number of replications `nrep`, true parameter vector `theta`, and sample size `n`."
   ]
  },
  {
   "cell_type": "code",
   "execution_count": 7,
   "id": "1a74138b",
   "metadata": {},
   "outputs": [],
   "source": [
    "def mysim(nrep, theta, n):\n",
    "    mle = np.empty((nrep, len(theta)))\n",
    "    se  = np.empty((nrep, len(theta)))\n",
    "    for i in range(nrep):\n",
    "        x = gamma.rvs(a = theta[0], scale = theta[1], size = n)\n",
    "        mle[i,], se[i,] = mle_gamma(x)\n",
    "    return {'mle': mle, 'se': se}"
   ]
  },
  {
   "cell_type": "markdown",
   "id": "a2419407",
   "metadata": {},
   "source": [
    "It works as expected:"
   ]
  },
  {
   "cell_type": "code",
   "execution_count": 8,
   "id": "28be5061",
   "metadata": {},
   "outputs": [],
   "source": [
    "sim = mysim(5, theta, 100)"
   ]
  },
  {
   "cell_type": "code",
   "execution_count": 9,
   "id": "c48eb2f2",
   "metadata": {},
   "outputs": [
    {
     "data": {
      "text/plain": [
       "{'mle': array([[2.88430936, 1.36793522],\n",
       "        [2.27448023, 1.68518255],\n",
       "        [2.31764838, 1.69055701],\n",
       "        [2.39758087, 1.51398333],\n",
       "        [1.88733887, 1.79588691]]),\n",
       " 'se': array([[0.38678602, 0.20035692],\n",
       "        [0.3007394 , 0.24994273],\n",
       "        [0.30896184, 0.25151033],\n",
       "        [0.31828873, 0.22364237],\n",
       "        [0.24738054, 0.26859417]])}"
      ]
     },
     "execution_count": 9,
     "metadata": {},
     "output_type": "execute_result"
    }
   ],
   "source": [
    "sim"
   ]
  },
  {
   "cell_type": "markdown",
   "id": "1b521dbd",
   "metadata": {},
   "source": [
    "To summarize the results of a simulation study, we investigate: 1) whether the mean of the estimates match the true parameters; and 2) whether the mean of the standard errors match the empirical standard errors."
   ]
  },
  {
   "cell_type": "code",
   "execution_count": 10,
   "id": "66e0a8a8",
   "metadata": {},
   "outputs": [],
   "source": [
    "def sumsim(sim):\n",
    "    avg = sim['mle'].mean(axis = 0)\n",
    "    ase = sim['se'].mean(axis = 0)\n",
    "    ese = sim['mle'].std(axis = 0)\n",
    "    return [avg, ase, ese]"
   ]
  },
  {
   "cell_type": "code",
   "execution_count": 11,
   "id": "cb08f45d",
   "metadata": {},
   "outputs": [
    {
     "data": {
      "text/plain": [
       "[array([2.35227154, 1.610709  ]),\n",
       " array([0.31243131, 0.23880931]),\n",
       " array([0.31891372, 0.15133264])]"
      ]
     },
     "execution_count": 11,
     "metadata": {},
     "output_type": "execute_result"
    }
   ],
   "source": [
    "sumsim(sim)"
   ]
  },
  {
   "cell_type": "markdown",
   "id": "7de00aab",
   "metadata": {},
   "source": [
    "We are ready to perform a few simulation studies and summarize the results."
   ]
  },
  {
   "cell_type": "code",
   "execution_count": 12,
   "id": "b3df3266",
   "metadata": {},
   "outputs": [
    {
     "data": {
      "text/plain": [
       "[array([2.09082776, 1.97218963]),\n",
       " array([0.39001695, 0.41689654]),\n",
       " array([0.41083031, 0.42194625])]"
      ]
     },
     "execution_count": 12,
     "metadata": {},
     "output_type": "execute_result"
    }
   ],
   "source": [
    "nrep = 1000\n",
    "sim_50 = mysim(nrep, theta, 50)\n",
    "sumsim(sim_50)"
   ]
  },
  {
   "cell_type": "code",
   "execution_count": 13,
   "id": "fe4ec97f",
   "metadata": {},
   "outputs": [
    {
     "data": {
      "text/plain": [
       "[array([2.04792242, 1.9938062 ]),\n",
       " array([0.26970189, 0.29771504]),\n",
       " array([0.27746879, 0.30532247])]"
      ]
     },
     "execution_count": 13,
     "metadata": {},
     "output_type": "execute_result"
    }
   ],
   "source": [
    "sim_100 = mysim(nrep, theta, 100)\n",
    "sumsim(sim_100)"
   ]
  },
  {
   "cell_type": "code",
   "execution_count": 14,
   "id": "c5dfd1e7",
   "metadata": {},
   "outputs": [
    {
     "data": {
      "text/plain": [
       "[array([2.03408097, 1.98374012]),\n",
       " array([0.18955294, 0.20911948]),\n",
       " array([0.19560285, 0.21151545])]"
      ]
     },
     "execution_count": 14,
     "metadata": {},
     "output_type": "execute_result"
    }
   ],
   "source": [
    "sim_200 = mysim(nrep, theta, 200)\n",
    "sumsim(sim_200)"
   ]
  },
  {
   "cell_type": "markdown",
   "id": "0b0006a2",
   "metadata": {},
   "source": [
    "The results suggest that the MLEs recover the true parameter values and that the standard errors of the MLEs mathch their empirical standard errors. The agreement improves as sample size increases.\n",
    "\n",
    "__The title and author field did not show. I haven't figured this out. Some help would be appreciated.__"
   ]
  },
  {
   "cell_type": "code",
   "execution_count": null,
   "id": "5ae3c588",
   "metadata": {},
   "outputs": [],
   "source": []
  }
 ],
 "metadata": {
  "author": "Jun Yan",
  "date": "February, 1, 2022",
  "kernelspec": {
   "display_name": "Python 3 (ipykernel)",
   "language": "python",
   "name": "python3"
  },
  "language_info": {
   "codemirror_mode": {
    "name": "ipython",
    "version": 3
   },
   "file_extension": ".py",
   "mimetype": "text/x-python",
   "name": "python",
   "nbconvert_exporter": "python",
   "pygments_lexer": "ipython3",
   "version": "3.9.10"
  },
  "title": "Homework 100"
 },
 "nbformat": 4,
 "nbformat_minor": 5
}
