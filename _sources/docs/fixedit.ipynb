{
 "cells": [
  {
   "cell_type": "markdown",
   "id": "e2d9cfda",
   "metadata": {},
   "source": [
    "(fixedit)=\n",
    "\n",
    "# I Fixed It\n",
    "\n",
    "When something does not work as expected, be sure to read the error\n",
    "message carefully. Oftentimes, the problem has been encountered by\n",
    "others. A Google search for the quoted error message may lead to an\n",
    "existing solution.\n",
    "\n",
    "\n",
    "This is a collection of questions and answers during this semester,\n",
    "which could be helpful for others with the same problems."
   ]
  }
 ],
 "metadata": {
  "jupytext": {
   "text_representation": {
    "extension": ".md",
    "format_name": "myst"
   }
  },
  "kernelspec": {
   "display_name": "Python 3",
   "language": "python",
   "name": "python3"
  },
  "language_info": {
   "codemirror_mode": {
    "name": "ipython",
    "version": 3
   },
   "file_extension": ".py",
   "mimetype": "text/x-python",
   "name": "python",
   "nbconvert_exporter": "python",
   "pygments_lexer": "ipython3",
   "version": "3.8.12"
  },
  "source_map": [
   10
  ]
 },
 "nbformat": 4,
 "nbformat_minor": 5
}