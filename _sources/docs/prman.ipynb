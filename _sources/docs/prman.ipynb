{
 "cells": [
  {
   "cell_type": "markdown",
   "id": "9b27211e",
   "metadata": {},
   "source": [
    "(prman)=\n",
    "\n",
    "# Project Management\n",
    "\n",
    "## Reproducible data science project with Python-Markdown\n",
    "\n",
    "+ Markdown cheatsheet (Google it).\n",
    "+ Test and edit until the code runs\n",
    "+ Add texts to explain the code\n",
    "+ Save the results into a pdf file (for GitHub project release).\n",
    "\n",
    "## Setting up a Git Repo\n",
    "\n",
    "+ See documentations at [GitHub Docs](https://docs.github.com/).\n",
    "+ Demonstration with homework template"
   ]
  }
 ],
 "metadata": {
  "jupytext": {
   "text_representation": {
    "extension": ".md",
    "format_name": "myst"
   }
  },
  "kernelspec": {
   "display_name": "Python 3",
   "language": "python",
   "name": "python3"
  },
  "language_info": {
   "codemirror_mode": {
    "name": "ipython",
    "version": 3
   },
   "file_extension": ".py",
   "mimetype": "text/x-python",
   "name": "python",
   "nbconvert_exporter": "python",
   "pygments_lexer": "ipython3",
   "version": "3.8.12"
  },
  "source_map": [
   10
  ]
 },
 "nbformat": 4,
 "nbformat_minor": 5
}