{
 "cells": [
  {
   "cell_type": "markdown",
   "id": "72112272",
   "metadata": {},
   "source": [
    "(exercises)=\n",
    "\n",
    "# Exercises\n",
    "\n",
    "1. Write a function to demonstrate the Monty Hall problem through\n",
    "   simulation. The function takes two arguments `ndoors` and\n",
    "   `ntrials`, representing the number of doors in the experiment and\n",
    "   the number of trails in a simulation, respectively. The function\n",
    "   should return the proportion of wins for both the switch and\n",
    "   no-switch strategy. Apply your function with 3 doors and 5 doors,\n",
    "   both with 1000 trials.\n",
    "\n",
    "1. Write a function to do a Monte Carlo approximation of $\\pi$. The\n",
    "   function takes a Monte Carlo sample size `n` as input, and returns\n",
    "   a point estimate of $\\pi$ and a 95% confidence interval. Apply your\n",
    "   function with sample size 1000, 2000, 4000, and 8000. Comment on\n",
    "   the results.\n",
    "\n",
    "1. Find the first 10-digit prime number occurring in consecutive\n",
    "   digits of $e$. This was a\n",
    "   [Google recruiting ad](http://mathworld.wolfram.com/news/2004-10-13/google/)."
   ]
  }
 ],
 "metadata": {
  "jupytext": {
   "text_representation": {
    "extension": ".md",
    "format_name": "myst"
   }
  },
  "kernelspec": {
   "display_name": "Python 3",
   "language": "python",
   "name": "python3"
  },
  "language_info": {
   "codemirror_mode": {
    "name": "ipython",
    "version": 3
   },
   "file_extension": ".py",
   "mimetype": "text/x-python",
   "name": "python",
   "nbconvert_exporter": "python",
   "pygments_lexer": "ipython3",
   "version": "3.8.12"
  },
  "source_map": [
   10
  ]
 },
 "nbformat": 4,
 "nbformat_minor": 5
}