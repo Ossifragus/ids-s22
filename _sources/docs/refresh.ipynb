{
 "cells": [
  {
   "cell_type": "markdown",
   "id": "adb40d4e",
   "metadata": {},
   "source": [
    "(refresh)=\n",
    "\n",
    "# Python Refreshment\n",
    "\n",
    "You have programmed in Python. Regardless of your skill level, let us\n",
    "do some refreshing.\n",
    "\n",
    "## The Python World\n",
    "\n",
    "+ Function: a block of organized, reusable code to complete certain\n",
    "  task.\n",
    "+ Module: a file containing a collection of functions, variables, and\n",
    "  statements.\n",
    "+ Package: a structured directory containing collections of modules\n",
    "  and an `__init.py__` file by which the directory is interpreted as a\n",
    "  package.\n",
    "+ Library: a collection of related functionality of codes. It is a\n",
    "  reusable chunk of code that we can use by importing it in our\n",
    "  program, we can just use it by importing that library and calling\n",
    "  the method of that library with period(.).\n",
    "  \n",
    "See, for example, [how to build a Python\n",
    "libratry](https://medium.com/analytics-vidhya/how-to-create-a-python-library-7d5aea80cc3f).\n",
    "\n",
    "\n",
    "Question: How to get the constant $e$ to an arbitary precision?\n",
    "\n",
    "The constant is only represented by a given double precision."
   ]
  },
  {
   "cell_type": "code",
   "execution_count": null,
   "id": "804196f8",
   "metadata": {},
   "outputs": [],
   "source": [
    "import math\n",
    "print(\"%0.20f\" % math.e)\n",
    "print(\"%0.80f\" % math.e)"
   ]
  },
  {
   "cell_type": "markdown",
   "id": "b820c3f5",
   "metadata": {},
   "source": [
    "Now use package `decimal` to export with an arbitary precision."
   ]
  },
  {
   "cell_type": "code",
   "execution_count": null,
   "id": "3fe8478a",
   "metadata": {},
   "outputs": [],
   "source": [
    "import decimal  # for what?\n",
    "\n",
    "## set the required number digits to 150\n",
    "decimal.getcontext().prec = 150\n",
    "decimal.Decimal(1).exp().to_eng_string()\n",
    "decimal.Decimal(1).exp().to_eng_string()[2:]"
   ]
  },
  {
   "cell_type": "markdown",
   "id": "cabbcd82",
   "metadata": {},
   "source": [
    "Question: how to draw a random sample from a normal distribution and\n",
    "evaluate the density and distributions at these points?"
   ]
  },
  {
   "cell_type": "code",
   "execution_count": null,
   "id": "d105d48f",
   "metadata": {},
   "outputs": [],
   "source": [
    "from scipy.stats import norm\n",
    "\n",
    "mu, sigma = 2, 4\n",
    "mean, var, skew, kurt = norm.stats(mu, sigma, moments='mvsk')\n",
    "print(mean, var, skew, kurt)\n",
    "x = norm.rvs(loc = mu, scale = sigma, size = 10)\n",
    "x"
   ]
  },
  {
   "cell_type": "markdown",
   "id": "1e8e9566",
   "metadata": {},
   "source": [
    "The pdf and cdf can be evaluated:"
   ]
  },
  {
   "cell_type": "code",
   "execution_count": null,
   "id": "2b38163b",
   "metadata": {},
   "outputs": [],
   "source": [
    "norm.pdf(x, loc = mu, scale = sigma)"
   ]
  },
  {
   "cell_type": "markdown",
   "id": "32ff3d05",
   "metadata": {},
   "source": [
    "## Writing a Function\n",
    "\n",
    "Consider the Fibonacci Sequence\n",
    "$1, 1, 2, 3, 5, 8, 13, 21, 34, ...$.\n",
    "The next number is found by adding up the two numbers before it.\n",
    "We are going to use 3 ways to solve the problems.\n",
    "\n",
    "\n",
    "The first is a recursive solution."
   ]
  },
  {
   "cell_type": "code",
   "execution_count": null,
   "id": "05a58318",
   "metadata": {},
   "outputs": [],
   "source": [
    "def fib_rs(n):\n",
    "    if (n==1 or n==2):\n",
    "        return 1\n",
    "    else:\n",
    "        return fib_rs(n - 1) + fib_rs(n - 2)\n",
    "\n",
    "%timeit fib_rs(10)"
   ]
  },
  {
   "cell_type": "markdown",
   "id": "1fb19b4a",
   "metadata": {},
   "source": [
    "The second uses dynamic programming memoization."
   ]
  },
  {
   "cell_type": "code",
   "execution_count": null,
   "id": "edf49848",
   "metadata": {},
   "outputs": [],
   "source": [
    "def fib_dm_helper(n, mem):\n",
    "    if mem[n] is not None:\n",
    "        return mem[n]\n",
    "    elif (n == 1 or n == 2):\n",
    "        result = 1\n",
    "    else:\n",
    "        result = fib_dm_helper(n - 1, mem) + fib_dm_helper(n - 2, mem)\n",
    "    mem[n] = result\n",
    "    return result\n",
    "\n",
    "def fib_dm(n):\n",
    "    mem = [None] * (n + 1)\n",
    "    return fib_dm_helper(n, mem)\n",
    "\n",
    "%timeit fib_dm(10)"
   ]
  },
  {
   "cell_type": "markdown",
   "id": "62f30f4b",
   "metadata": {},
   "source": [
    "The third is still dynamic programming but bottom-up."
   ]
  },
  {
   "cell_type": "code",
   "execution_count": null,
   "id": "84161656",
   "metadata": {},
   "outputs": [],
   "source": [
    "def fib_dbu(n):\n",
    "    mem = [None] * (n + 1)\n",
    "    mem[1]=1;\n",
    "    mem[2]=1;\n",
    "    for i in range(3,n+1):\n",
    "        mem[i] = mem[i-1] + mem[i-2]\n",
    "    return mem[n]\n",
    "        \n",
    "\n",
    "%timeit fib_dbu(500)"
   ]
  },
  {
   "cell_type": "markdown",
   "id": "c502a263",
   "metadata": {},
   "source": [
    "Apparently, the three solutions have very different performance for\n",
    "larger `n`.\n",
    "\n",
    "\n",
    "## Variables versus Objects\n",
    "\n",
    "In Python, variables and the objects they point to actually live in\n",
    "two different places in the computer memory. Think of variables as\n",
    "pointers to the objects they’re associated with, rather than being\n",
    "those objects. This matters when multiple variables point to the same\n",
    "object."
   ]
  },
  {
   "cell_type": "code",
   "execution_count": null,
   "id": "86a96716",
   "metadata": {},
   "outputs": [],
   "source": [
    "x = [1, 2, 3]  # create a list; x points to the list\n",
    "y = x          # y also points to the same list in the memory\n",
    "y.append(4)    # append to y\n",
    "x              # x changed!"
   ]
  },
  {
   "cell_type": "markdown",
   "id": "2084bd1c",
   "metadata": {},
   "source": [
    "Now check their addresses"
   ]
  },
  {
   "cell_type": "code",
   "execution_count": null,
   "id": "f3174a33",
   "metadata": {},
   "outputs": [],
   "source": [
    "print(id(x))   # address of x\n",
    "print(id(y))   # address of y"
   ]
  },
  {
   "cell_type": "markdown",
   "id": "bd88a197",
   "metadata": {},
   "source": [
    "Nonetheless, some data types in Python are \"immutable\", meaning that\n",
    "their values cannot be changed in place. One such example is strings."
   ]
  },
  {
   "cell_type": "code",
   "execution_count": null,
   "id": "c8bc6b75",
   "metadata": {},
   "outputs": [],
   "source": [
    "x = \"abc\"\n",
    "y = x\n",
    "y = \"xyz\"\n",
    "x"
   ]
  },
  {
   "cell_type": "markdown",
   "id": "16b47e4d",
   "metadata": {},
   "source": [
    "Now check their addresses"
   ]
  },
  {
   "cell_type": "code",
   "execution_count": null,
   "id": "735dac0f",
   "metadata": {},
   "outputs": [],
   "source": [
    "print(id(x))   # address of x\n",
    "print(id(y))   # address of y"
   ]
  },
  {
   "cell_type": "markdown",
   "id": "45ad8b08",
   "metadata": {},
   "source": [
    "Question: What's mutable and what's immutable?\n",
    "\n",
    "Anything that is a collection of other objects is mutable, except\n",
    "``tuples``.\n",
    "\n",
    "Not all manipulations of mutable objects change the object rather than\n",
    "create a new object. Sometimes when you do something to a mutable\n",
    "object, you get back a new object. Manipulations that change an\n",
    "existing object, rather than create a new one, are referred to as\n",
    "“in-place mutations” or just “mutations.” So:\n",
    "\n",
    "+ __All__ manipulations of immutable types create new objects.\n",
    "+ __Some__ manipulations of mutable types create new objects.\n",
    "\n",
    "Different variables may all be pointing at the same object is\n",
    "preserved through function calls (a behavior known as “pass by\n",
    "object-reference”). So if you pass a list to a function, and that\n",
    "function manipulates that list using an in-place mutation, that change\n",
    "will affect any variable that was pointing to that same object outside\n",
    "the function."
   ]
  },
  {
   "cell_type": "code",
   "execution_count": null,
   "id": "3aa45324",
   "metadata": {},
   "outputs": [],
   "source": [
    "x = [1, 2, 3]\n",
    "y = x\n",
    "\n",
    "def append_42(input_list):\n",
    "    input_list.append(42)\n",
    "    return input_list\n",
    "\n",
    "append_42(x)"
   ]
  },
  {
   "cell_type": "markdown",
   "id": "225f564a",
   "metadata": {},
   "source": [
    "Note that both `x` and `y` have been appended by $42$."
   ]
  }
 ],
 "metadata": {
  "jupytext": {
   "text_representation": {
    "extension": ".md",
    "format_name": "myst"
   }
  },
  "kernelspec": {
   "display_name": "Python 3",
   "language": "python",
   "name": "python3"
  },
  "source_map": [
   10,
   40,
   44,
   46,
   53,
   57,
   65,
   67,
   69,
   80,
   88,
   91,
   107,
   110,
   121,
   134,
   139,
   141,
   144,
   149,
   154,
   157,
   160,
   182,
   191
  ]
 },
 "nbformat": 4,
 "nbformat_minor": 5
}