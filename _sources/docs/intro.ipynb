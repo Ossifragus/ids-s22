{
 "cells": [
  {
   "cell_type": "markdown",
   "id": "83b88e50",
   "metadata": {},
   "source": [
    "(intro)=\n",
    "\n",
    "# Introduction\n",
    "\n",
    "## What is Data Science?\n",
    "\n",
    "One widely accepted concept is the three pillars of data science:\n",
    "mathematics/statistics, computer science, and domain knowledge.\n",
    "\n",
    "In her 2014 Presidential Address, Prof. Bin Yu, then President of the\n",
    "Institute of Mathematical Statistics, gave an interesting definition:\n",
    "```{math}\n",
    "\\mbox{Data Science} =\n",
    "\\mbox{S}\\mbox{D}\\mbox{C}^3,\n",
    "```\n",
    "where S is Statistics, D is domain/science knowledge, and\n",
    "the three C's are computing, collaboration/teamwork, and communication\n",
    "to outsiders.\n",
    "\n",
    "\n",
    "## Computing Environment\n",
    "\n",
    "All setups are operating system dependent.\n",
    "\n",
    "As soon as possible, stay away from Windows. Otherwise, good luck (you\n",
    "need it).\n",
    "\n",
    "### Command line interface\n",
    "\n",
    "[Ubunto Linux for beginners](https://ubuntu.com/tutorials/command-line-for-beginners).\n",
    "\n",
    "### Python\n",
    "\n",
    "- Install Python package manager __miniconda__ or __pip__.\n",
    "- Install Python\n",
    "- Install an IDE (Jupyter Notebook or VS Code)\n",
    "\n",
    "### A book project with Jupyter-book\n",
    "\n",
    "- Markdown for text\n",
    "- Jupyter notebook for code demo\n",
    "- Jupytext has nice features handling markdown source\n",
    "- Install `jupyter-boook` with  `pip install jupeter-book`\n",
    "\n",
    "To build the book, go to the source directory of the book. under\n",
    "`notes`,  run `jb build .`\n",
    "\n",
    "### MyST Markdown\n",
    "\n",
    "Markedly Structured Text (MyST) examples:\n",
    "\n",
    "```{admonition} Add my admonition\n",
    "Adding my little admonition\n",
    "```\n",
    "\n",
    "````{note}\n",
    "Initial\n",
    "```{warning}\n",
    "warning\n",
    "```\n",
    "````\n",
    "\n",
    "```{eval-rst}\n",
    ".. note::\n",
    "\n",
    "   A note written in reStructuredText.\n",
    "```"
   ]
  },
  {
   "cell_type": "code",
   "execution_count": 1,
   "id": "b0e5a969",
   "metadata": {
    "other": {
     "more": true
    },
    "tags": [
     "hide-output",
     "show-input"
    ]
   },
   "outputs": [
    {
     "name": "stdout",
     "output_type": "stream",
     "text": [
      "Hello!\n"
     ]
    }
   ],
   "source": [
    "print(\"Hello!\")"
   ]
  },
  {
   "cell_type": "markdown",
   "id": "8257439c",
   "metadata": {},
   "source": [
    "```{code-block} python\n",
    "---\n",
    "lineno-start: 10\n",
    "emphasize-lines: 1, 3\n",
    "caption: |\n",
    "    This is my\n",
    "    multi-line caption. It is *pretty nifty* \n",
    "---\n",
    "a = 2\n",
    "print('my 1st line')\n",
    "print(f'my {a}nd line')\n",
    "```\n",
    "\n",
    "```{admonition} Here's my title\n",
    ":class: warning\n",
    "\n",
    "Here's my admonition content\n",
    "```\n",
    "\n",
    "\n",
    "```{math} ax^{2} + bx + c\n",
    "---\n",
    "label: quadratic\n",
    "---\n",
    "```\n",
    "\n",
    "The basic quadratic equation, {math:numref}`quadratic`, allows for the \n",
    "construction of all kinds of parabolas\n",
    "\n",
    "\n",
    "## Wish List\n",
    "\n",
    "This is a wish list from all members of the class (alphabetical\n",
    "order). Add yours; note the syntax of nested list in Markdown.\n",
    "\n",
    "+ Last, First\n",
    "    - wish 1\n",
    "    - wish 2\n",
    "+ Yan, Jun\n",
    "    - Make data science accessible to undergraduates\n",
    "    - Co-develop a notebook with Jupyter-book in collaboration with students\n",
    "\n",
    "## Task Board\n",
    "\n",
    "+ Project management \n",
    "    - Markdown basics\n",
    "    - Jupyter notebook\n",
    "    - Jupyter book\n",
    "    - Jun Yan ~~Git basics~~\n",
    "+ Python refreshment\n",
    "    - Vectors, matrices, and arrays\n",
    "    - Distributions\n",
    "+ Optimization\n",
    "    - Unrestricted\n",
    "    - Restricted\n",
    "+ Visualization\n",
    "    - Package matplotlib\n",
    "    - Package seaborn\n",
    "+ Statistical tests and models\n",
    "    - Hypothesis tests\n",
    "    - Generalized linear models (specifically logistic)\n",
    "+ Tree-based models\n",
    "    - Tree models\n",
    "    - Random forest\n",
    "+ Boosting and XGBoost\n",
    "    - Gradient boosting and its variants\n",
    "    - XGBoost in action\n",
    "+ Unsupervised learning\n",
    "    - K-means clustering\n",
    "    - Model-based\n",
    "+ Neural networks and deep learning"
   ]
  }
 ],
 "metadata": {
  "jupytext": {
   "text_representation": {
    "extension": ".md",
    "format_name": "myst"
   }
  },
  "kernelspec": {
   "display_name": "Python 3",
   "language": "python",
   "name": "python3"
  },
  "language_info": {
   "codemirror_mode": {
    "name": "ipython",
    "version": 3
   },
   "file_extension": ".py",
   "mimetype": "text/x-python",
   "name": "python",
   "nbconvert_exporter": "python",
   "pygments_lexer": "ipython3",
   "version": "3.8.12"
  },
  "source_map": [
   10,
   80,
   87
  ]
 },
 "nbformat": 4,
 "nbformat_minor": 5
}